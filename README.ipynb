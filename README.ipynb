{
 "cells": [
  {
   "cell_type": "markdown",
   "id": "a6e23271-fc2c-4bc6-8d89-83137f8a75fc",
   "metadata": {},
   "source": [
    "# rust-bevy and the Nature of Code"
   ]
  },
  {
   "cell_type": "markdown",
   "id": "cd5edab4-af54-4e57-846b-b3dc67597262",
   "metadata": {},
   "source": [
    "The book **The Nature of Code** from **Daniel Shiffman** is a wonderful book about programming.  \n",
    "\n",
    "https://natureofcode.com/book/  \n",
    "\n",
    "About many things you need to know when programing games."
   ]
  },
  {
   "cell_type": "markdown",
   "id": "a49c398c-1aea-4e5d-b897-6b291624f6dc",
   "metadata": {},
   "source": [
    "My personal challenge is to make an example for every chapter in **Rust** with **Bevy** (https://github.com/bevyengine/bevy)"
   ]
  },
  {
   "cell_type": "markdown",
   "id": "d6cb89a8-004e-4b69-bc88-ef8b011e9f0d",
   "metadata": {},
   "source": [
    "Thanks to https://github.com/iMplode-nZ/bevy-orbit-controls. Many lines of the module **orbitcamera.rs** are from that."
   ]
  },
  {
   "cell_type": "markdown",
   "id": "fbc95e66-6fc8-415d-bee3-86a17e1d73a6",
   "metadata": {},
   "source": [
    "## chapter 1 _ Vectors"
   ]
  },
  {
   "cell_type": "markdown",
   "id": "a83b5def-d938-4b24-bb89-839879a5016a",
   "metadata": {},
   "source": [
    "Book: https://natureofcode.com/book/chapter-1-vectors/"
   ]
  },
  {
   "cell_type": "markdown",
   "id": "2b2a8741-8c66-418a-9b89-7a66267e1ffe",
   "metadata": {},
   "source": [
    "Video: https://www.youtube.com/watch?v=bKEaK7WNLzM&list=PLRqwX-V7Uu6ZV4yEcW3uDwOgGXKUUsPOM&index=10"
   ]
  },
  {
   "cell_type": "markdown",
   "id": "c17101d5-37c9-4a36-8abc-58fc9be3e023",
   "metadata": {},
   "source": [
    "<img src=\"img/chapter1.gif\" width=\"320\" align=\"left\"><br><br><br><br><br><br><br><br><br><br><br><br><br><br>"
   ]
  },
  {
   "cell_type": "code",
   "execution_count": null,
   "id": "826356db-d976-4bd3-bd24-697b8d3e46fa",
   "metadata": {},
   "outputs": [],
   "source": []
  }
 ],
 "metadata": {
  "kernelspec": {
   "display_name": "Rust",
   "language": "rust",
   "name": "rust"
  },
  "language_info": {
   "codemirror_mode": "rust",
   "file_extension": ".rs",
   "mimetype": "text/rust",
   "name": "Rust",
   "pygment_lexer": "rust",
   "version": ""
  }
 },
 "nbformat": 4,
 "nbformat_minor": 5
}
